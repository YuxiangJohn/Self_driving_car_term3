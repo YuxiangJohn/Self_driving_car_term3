{
 "cells": [
  {
   "cell_type": "markdown",
   "metadata": {},
   "source": [
    "# Maze search - A*"
   ]
  },
  {
   "cell_type": "code",
   "execution_count": 3,
   "metadata": {
    "collapsed": true
   },
   "outputs": [],
   "source": [
    "# ----------\n",
    "# User Instructions:\n",
    "# \n",
    "# Define a function, search() that returns a list\n",
    "# in the form of [optimal path length, row, col]. For\n",
    "# the grid shown below, your function should output\n",
    "# [11, 4, 5].\n",
    "#\n",
    "# If there is no valid path from the start point\n",
    "# to the goal, your function should return the string\n",
    "# 'fail'\n",
    "# ----------\n",
    "\n",
    "# Grid format:\n",
    "#   0 = Navigable space\n",
    "#   1 = Occupied space\n",
    "\n",
    "grid = [[0, 1, 0, 0, 0, 0],\n",
    "        [0, 1, 0, 0, 0, 0],\n",
    "        [0, 1, 0, 0, 0, 0],\n",
    "        [0, 0, 0, 0, 1, 0],\n",
    "        [0, 0, 0, 0, 1, 0]]\n",
    "\n",
    "heuristic = [[9, 8, 7, 6, 5, 4],\n",
    "             [8, 7, 6, 5, 4, 3],\n",
    "             [7, 6, 5, 4, 3, 2],\n",
    "             [6, 5, 4, 3, 2, 1],\n",
    "             [5, 4, 3, 2, 1, 0]]\n",
    "\n",
    "init = [0, 0]\n",
    "goal = [len(grid)-1, len(grid[0])-1]\n",
    "cost = 1 # each step cost 1\n",
    "\n",
    "delta = [[-1, 0], # go up\n",
    "         [ 0,-1], # go left\n",
    "         [ 1, 0], # go down\n",
    "         [ 0, 1]] # go right\n",
    "\n",
    "delta_name = ['^', '<', 'v', '>']\n",
    "\n",
    "def search(grid,init,goal,cost):\n",
    "    # ----------------------------------------\n",
    "    # insert code here\n",
    "    # ----------------------------------------\n",
    "    closed = [[0 for row in range(len(grid[0]))] for col in range(len(grid))] # create an array with the same shape as grid and set all value equal to 0.\n",
    "    closed[init[0]][init[1]] = 1 # will not search the init.\n",
    "    \n",
    "    # expand list to show the expand order\n",
    "    expand = [[-1 for row in range(len(grid[0]))] for col in range(len(grid))] # create an array with all -1.\n",
    "    expand[init[0]][init[1]] = 0\n",
    "    \n",
    "    # action list to explain the optimal path\n",
    "    action = [[-1 for row in range(len(grid[0]))] for col in range(len(grid))] # create an array with all -1.\n",
    "    \n",
    "    \n",
    "    # open list elements are of the type: [g, x, y]\n",
    "    x = init[0]\n",
    "    y = init[1]\n",
    "    g = 0\n",
    "    h = heuristic[x][y]\n",
    "    f = g + h\n",
    "    \n",
    "    open =[[f, g, h, x, y]]\n",
    "    found = False # flag that is set when search complete\n",
    "    resign = False # flag set if we can't find expand\n",
    "    count =0\n",
    "    \n",
    "    print( 'initial open list:')\n",
    "    for i in range(len(open)):\n",
    "        print( '    ', open[i])\n",
    "    print( '----')\n",
    "    while found is False and resign is False:\n",
    "        \n",
    "        # check if we still have elements on the open list\n",
    "        if len(open) ==0:\n",
    "            resign = True\n",
    "            print('fail')\n",
    "            \n",
    "        else:\n",
    "            # remove node from list\n",
    "            open.sort()\n",
    "            open.reverse()\n",
    "            next = open.pop()\n",
    "            print('take list item')\n",
    "            print(next)\n",
    "            x = next[3]\n",
    "            y = next[4]\n",
    "            g = next[1]\n",
    "            \n",
    "            expand[x][y] = count\n",
    "            count += 1\n",
    "            print(count)\n",
    "            \n",
    "            \n",
    "            # check if we are done\n",
    "            if x == goal[0] and y == goal[1]:\n",
    "                found = True\n",
    "                #print(next)\n",
    "                print('Search sucessful')\n",
    "                l =expand\n",
    "                #print(expand)\n",
    "                #return expand\n",
    "            \n",
    "            else:\n",
    "                print('append list item')\n",
    "                # expand winning element and add to new open list\n",
    "                for i in range(len(delta)):\n",
    "                    \n",
    "                    x2 = x + delta[i][0]\n",
    "                    y2 = y + delta[i][1]\n",
    "                    if x2 >= 0 and x2 < len(grid) and y2 >= 0 and y2 < len(grid[0]):\n",
    "                        if closed[x2][y2] == 0 and grid[x2][y2] == 0:\n",
    "                            g2 = g + cost\n",
    "                            h2 = heuristic[x2][y2]\n",
    "                            f2 = g2 + h2\n",
    "                            open.append([f2, g2, h2, x2, y2])\n",
    "                            \n",
    "                            print([g2, x2, y2])\n",
    "                            closed[x2][y2] = 1\n",
    "                            action[x2][y2] = i\n",
    "    \n",
    "    for i in range(len(action)):\n",
    "        print(closed[i])\n",
    "    for i in range(len(action)):\n",
    "        print(action[i])\n",
    "    policy = [[' ' for row in range(len(grid[0]))] for col in range(len(grid))]  \n",
    "    x = goal[0]\n",
    "    y = goal[1]\n",
    "    policy[x][y] = '*'\n",
    "    while x != init[0] or y != init[1]:\n",
    "        x2 = x - delta[action[x][y]][0]\n",
    "        y2 = y - delta[action[x][y]][1]\n",
    "        policy[x2][y2] = delta_name[action[x][y]]\n",
    "        x = x2\n",
    "        y = y2\n",
    "    \n",
    "    for i in range(len(policy)):\n",
    "        print(policy[i])\n"
   ]
  },
  {
   "cell_type": "code",
   "execution_count": 4,
   "metadata": {},
   "outputs": [
    {
     "name": "stdout",
     "output_type": "stream",
     "text": [
      "initial open list:\n",
      "     [9, 0, 9, 0, 0]\n",
      "----\n",
      "take list item\n",
      "[9, 0, 9, 0, 0]\n",
      "1\n",
      "append list item\n",
      "[1, 1, 0]\n",
      "take list item\n",
      "[9, 1, 8, 1, 0]\n",
      "2\n",
      "append list item\n",
      "[2, 2, 0]\n",
      "take list item\n",
      "[9, 2, 7, 2, 0]\n",
      "3\n",
      "append list item\n",
      "[3, 3, 0]\n",
      "take list item\n",
      "[9, 3, 6, 3, 0]\n",
      "4\n",
      "append list item\n",
      "[4, 4, 0]\n",
      "[4, 3, 1]\n",
      "take list item\n",
      "[9, 4, 5, 3, 1]\n",
      "5\n",
      "append list item\n",
      "[5, 4, 1]\n",
      "[5, 3, 2]\n",
      "take list item\n",
      "[9, 4, 5, 4, 0]\n",
      "6\n",
      "append list item\n",
      "take list item\n",
      "[9, 5, 4, 3, 2]\n",
      "7\n",
      "append list item\n",
      "[6, 2, 2]\n",
      "[6, 4, 2]\n",
      "[6, 3, 3]\n",
      "take list item\n",
      "[9, 5, 4, 4, 1]\n",
      "8\n",
      "append list item\n",
      "take list item\n",
      "[9, 6, 3, 3, 3]\n",
      "9\n",
      "append list item\n",
      "[7, 2, 3]\n",
      "[7, 4, 3]\n",
      "take list item\n",
      "[9, 6, 3, 4, 2]\n",
      "10\n",
      "append list item\n",
      "take list item\n",
      "[9, 7, 2, 4, 3]\n",
      "11\n",
      "append list item\n",
      "take list item\n",
      "[11, 6, 5, 2, 2]\n",
      "12\n",
      "append list item\n",
      "[7, 1, 2]\n",
      "take list item\n",
      "[11, 7, 4, 2, 3]\n",
      "13\n",
      "append list item\n",
      "[8, 1, 3]\n",
      "[8, 2, 4]\n",
      "take list item\n",
      "[11, 8, 3, 2, 4]\n",
      "14\n",
      "append list item\n",
      "[9, 1, 4]\n",
      "[9, 2, 5]\n",
      "take list item\n",
      "[11, 9, 2, 2, 5]\n",
      "15\n",
      "append list item\n",
      "[10, 1, 5]\n",
      "[10, 3, 5]\n",
      "take list item\n",
      "[11, 10, 1, 3, 5]\n",
      "16\n",
      "append list item\n",
      "[11, 4, 5]\n",
      "take list item\n",
      "[11, 11, 0, 4, 5]\n",
      "17\n",
      "Search sucessful\n",
      "[1, 0, 0, 0, 0, 0]\n",
      "[1, 0, 1, 1, 1, 1]\n",
      "[1, 0, 1, 1, 1, 1]\n",
      "[1, 1, 1, 1, 0, 1]\n",
      "[1, 1, 1, 1, 0, 1]\n",
      "[-1, -1, -1, -1, -1, -1]\n",
      "[2, -1, 0, 0, 0, 0]\n",
      "[2, -1, 0, 0, 3, 3]\n",
      "[2, 3, 3, 3, -1, 2]\n",
      "[2, 2, 2, 2, -1, 2]\n",
      "['v', ' ', ' ', ' ', ' ', ' ']\n",
      "['v', ' ', ' ', ' ', ' ', ' ']\n",
      "['v', ' ', ' ', '>', '>', 'v']\n",
      "['>', '>', '>', '^', ' ', 'v']\n",
      "[' ', ' ', ' ', ' ', ' ', '*']\n"
     ]
    }
   ],
   "source": [
    "search(grid,init,goal,cost)"
   ]
  },
  {
   "cell_type": "code",
   "execution_count": 62,
   "metadata": {
    "collapsed": true
   },
   "outputs": [],
   "source": [
    "l"
   ]
  },
  {
   "cell_type": "code",
   "execution_count": 7,
   "metadata": {
    "collapsed": true
   },
   "outputs": [],
   "source": [
    "closed = [[0 for row in range(len(grid[0]))] for col in range(len(grid))]"
   ]
  },
  {
   "cell_type": "code",
   "execution_count": 8,
   "metadata": {},
   "outputs": [
    {
     "data": {
      "text/plain": [
       "[[0, 0, 0, 0, 0, 0],\n",
       " [0, 0, 0, 0, 0, 0],\n",
       " [0, 0, 0, 0, 0, 0],\n",
       " [0, 0, 0, 0, 0, 0],\n",
       " [0, 0, 0, 0, 0, 0]]"
      ]
     },
     "execution_count": 8,
     "metadata": {},
     "output_type": "execute_result"
    }
   ],
   "source": [
    "closed"
   ]
  },
  {
   "cell_type": "code",
   "execution_count": 6,
   "metadata": {},
   "outputs": [
    {
     "data": {
      "text/plain": [
       "6"
      ]
     },
     "execution_count": 6,
     "metadata": {},
     "output_type": "execute_result"
    }
   ],
   "source": [
    "len(grid[0])"
   ]
  },
  {
   "cell_type": "code",
   "execution_count": 29,
   "metadata": {
    "collapsed": true
   },
   "outputs": [],
   "source": [
    "open = [[1, 1, 0],\n",
    "[1, 0, 1]]\n",
    "open.sort()"
   ]
  },
  {
   "cell_type": "code",
   "execution_count": 30,
   "metadata": {},
   "outputs": [
    {
     "data": {
      "text/plain": [
       "[[1, 0, 1], [1, 1, 0]]"
      ]
     },
     "execution_count": 30,
     "metadata": {},
     "output_type": "execute_result"
    }
   ],
   "source": [
    "open"
   ]
  },
  {
   "cell_type": "code",
   "execution_count": 11,
   "metadata": {
    "collapsed": true
   },
   "outputs": [],
   "source": [
    "open.reverse()"
   ]
  },
  {
   "cell_type": "code",
   "execution_count": 12,
   "metadata": {},
   "outputs": [
    {
     "data": {
      "text/plain": [
       "[4, 3, 1, 0]"
      ]
     },
     "execution_count": 12,
     "metadata": {},
     "output_type": "execute_result"
    }
   ],
   "source": [
    "open"
   ]
  },
  {
   "cell_type": "code",
   "execution_count": 13,
   "metadata": {
    "collapsed": true
   },
   "outputs": [],
   "source": [
    "nex = open.pop()"
   ]
  },
  {
   "cell_type": "code",
   "execution_count": 14,
   "metadata": {},
   "outputs": [
    {
     "data": {
      "text/plain": [
       "0"
      ]
     },
     "execution_count": 14,
     "metadata": {},
     "output_type": "execute_result"
    }
   ],
   "source": [
    "nex"
   ]
  },
  {
   "cell_type": "code",
   "execution_count": 15,
   "metadata": {},
   "outputs": [
    {
     "data": {
      "text/plain": [
       "[4, 3, 1]"
      ]
     },
     "execution_count": 15,
     "metadata": {},
     "output_type": "execute_result"
    }
   ],
   "source": [
    "open"
   ]
  },
  {
   "cell_type": "code",
   "execution_count": 18,
   "metadata": {},
   "outputs": [
    {
     "name": "stdout",
     "output_type": "stream",
     "text": [
      "Search sucessful\n"
     ]
    }
   ],
   "source": [
    "print('Search sucessful')"
   ]
  },
  {
   "cell_type": "code",
   "execution_count": 31,
   "metadata": {
    "collapsed": true
   },
   "outputs": [],
   "source": [
    "expand = [[-1 for row in range(len(grid[0]))] for col in range(len(grid))] # create an array with all -1."
   ]
  },
  {
   "cell_type": "code",
   "execution_count": 32,
   "metadata": {},
   "outputs": [
    {
     "data": {
      "text/plain": [
       "[[-1, -1, -1, -1, -1, -1],\n",
       " [-1, -1, -1, -1, -1, -1],\n",
       " [-1, -1, -1, -1, -1, -1],\n",
       " [-1, -1, -1, -1, -1, -1],\n",
       " [-1, -1, -1, -1, -1, -1]]"
      ]
     },
     "execution_count": 32,
     "metadata": {},
     "output_type": "execute_result"
    }
   ],
   "source": [
    "expand"
   ]
  },
  {
   "cell_type": "code",
   "execution_count": null,
   "metadata": {
    "collapsed": true
   },
   "outputs": [],
   "source": []
  }
 ],
 "metadata": {
  "kernelspec": {
   "display_name": "Python 3",
   "language": "python",
   "name": "python3"
  },
  "language_info": {
   "codemirror_mode": {
    "name": "ipython",
    "version": 3
   },
   "file_extension": ".py",
   "mimetype": "text/x-python",
   "name": "python",
   "nbconvert_exporter": "python",
   "pygments_lexer": "ipython3",
   "version": "3.5.2"
  },
  "widgets": {
   "state": {},
   "version": "1.1.2"
  }
 },
 "nbformat": 4,
 "nbformat_minor": 2
}
